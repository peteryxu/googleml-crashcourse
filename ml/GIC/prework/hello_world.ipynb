{
  "cells": [
    {
      "cell_type": "markdown",
      "metadata": {
        "colab_type": "text",
        "id": "JndnmDMp66FL"
      },
      "source": [
        "#### Copyright 2017 Google LLC."
      ]
    },
    {
      "cell_type": "code",
      "execution_count": 0,
      "metadata": {
        "cellView": "both",
        "colab": {},
        "colab_type": "code",
        "id": "hMqWDc_m6rUC"
      },
      "outputs": [],
      "source": [
        "# Licensed under the Apache License, Version 2.0 (the \"License\");\n",
        "# you may not use this file except in compliance with the License.\n",
        "# You may obtain a copy of the License at\n",
        "#\n",
        "# https://www.apache.org/licenses/LICENSE-2.0\n",
        "#\n",
        "# Unless required by applicable law or agreed to in writing, software\n",
        "# distributed under the License is distributed on an \"AS IS\" BASIS,\n",
        "# WITHOUT WARRANTIES OR CONDITIONS OF ANY KIND, either express or implied.\n",
        "# See the License for the specific language governing permissions and\n",
        "# limitations under the License."
      ]
    },
    {
      "cell_type": "code",
      "execution_count": 2,
      "metadata": {},
      "outputs": [
        {
          "name": "stdout",
          "output_type": "stream",
          "text": [
            "Package                      Version\n",
            "---------------------------- -----------\n",
            "absl-py                      2.1.0\n",
            "asttokens                    2.4.1\n",
            "astunparse                   1.6.3\n",
            "certifi                      2024.8.30\n",
            "charset-normalizer           3.4.0\n",
            "comm                         0.2.2\n",
            "debugpy                      1.8.7\n",
            "decorator                    5.1.1\n",
            "exceptiongroup               1.2.2\n",
            "executing                    2.1.0\n",
            "flatbuffers                  24.3.25\n",
            "gast                         0.6.0\n",
            "google-pasta                 0.2.0\n",
            "grpcio                       1.67.0\n",
            "h5py                         3.12.1\n",
            "idna                         3.10\n",
            "ipykernel                    6.29.5\n",
            "ipython                      8.28.0\n",
            "jedi                         0.19.1\n",
            "jupyter_client               8.6.3\n",
            "jupyter_core                 5.7.2\n",
            "keras                        3.6.0\n",
            "libclang                     18.1.1\n",
            "Markdown                     3.7\n",
            "markdown-it-py               3.0.0\n",
            "MarkupSafe                   3.0.2\n",
            "matplotlib-inline            0.1.7\n",
            "mdurl                        0.1.2\n",
            "ml-dtypes                    0.4.1\n",
            "namex                        0.0.8\n",
            "nest-asyncio                 1.6.0\n",
            "numpy                        1.26.4\n",
            "nvidia-cublas-cu12           12.3.4.1\n",
            "nvidia-cuda-cupti-cu12       12.3.101\n",
            "nvidia-cuda-nvcc-cu12        12.3.107\n",
            "nvidia-cuda-nvrtc-cu12       12.3.107\n",
            "nvidia-cuda-runtime-cu12     12.3.101\n",
            "nvidia-cudnn-cu12            8.9.7.29\n",
            "nvidia-cufft-cu12            11.0.12.1\n",
            "nvidia-curand-cu12           10.3.4.107\n",
            "nvidia-cusolver-cu12         11.5.4.101\n",
            "nvidia-cusparse-cu12         12.2.0.103\n",
            "nvidia-nccl-cu12             2.19.3\n",
            "nvidia-nvjitlink-cu12        12.3.101\n",
            "opt_einsum                   3.4.0\n",
            "optree                       0.13.0\n",
            "packaging                    24.1\n",
            "parso                        0.8.4\n",
            "pexpect                      4.9.0\n",
            "pip                          24.2\n",
            "platformdirs                 4.3.6\n",
            "prompt_toolkit               3.0.48\n",
            "protobuf                     4.25.5\n",
            "psutil                       6.1.0\n",
            "ptyprocess                   0.7.0\n",
            "pure_eval                    0.2.3\n",
            "Pygments                     2.18.0\n",
            "python-dateutil              2.9.0.post0\n",
            "pyzmq                        26.2.0\n",
            "requests                     2.32.3\n",
            "rich                         13.9.2\n",
            "setuptools                   59.6.0\n",
            "six                          1.16.0\n",
            "stack-data                   0.6.3\n",
            "tensorboard                  2.17.1\n",
            "tensorboard-data-server      0.7.2\n",
            "tensorflow                   2.17.0\n",
            "tensorflow-io-gcs-filesystem 0.37.1\n",
            "termcolor                    2.5.0\n",
            "tornado                      6.4.1\n",
            "traitlets                    5.14.3\n",
            "typing_extensions            4.12.2\n",
            "urllib3                      2.2.3\n",
            "wcwidth                      0.2.13\n",
            "Werkzeug                     3.0.4\n",
            "wheel                        0.44.0\n",
            "wrapt                        1.16.0\n"
          ]
        }
      ],
      "source": [
        "!pip list"
      ]
    },
    {
      "cell_type": "markdown",
      "metadata": {
        "colab_type": "text",
        "id": "cH-YtyZs7Gcg"
      },
      "source": [
        "# Prework: Hello World"
      ]
    },
    {
      "cell_type": "markdown",
      "metadata": {
        "colab_type": "text",
        "id": "r0QBC2kTixPn"
      },
      "source": [
        "**Learning Objective:** Run a TensorFlow program in the browser."
      ]
    },
    {
      "cell_type": "markdown",
      "metadata": {
        "colab_type": "text",
        "id": "33fL46pgixPo"
      },
      "source": [
        "The code block below is a \"Hello World\" TensorFlow program.\n",
        "\n",
        "It consists of initialization code (importing tensorflow module and enabling \"eager execution\", which will be covered in more detail in subsequent exercises) and printing a \"Hello, world!\" string constant."
      ]
    },
    {
      "cell_type": "code",
      "execution_count": 5,
      "metadata": {
        "cellView": "both",
        "colab": {},
        "colab_type": "code",
        "id": "bRuPN7qo7ICp"
      },
      "outputs": [
        {
          "name": "stdout",
          "output_type": "stream",
          "text": [
            "b'Hello, world!'\n"
          ]
        },
        {
          "name": "stderr",
          "output_type": "stream",
          "text": [
            "WARNING: All log messages before absl::InitializeLog() is called are written to STDERR\n",
            "I0000 00:00:1729312004.354133  206607 cuda_executor.cc:1001] could not open file to read NUMA node: /sys/bus/pci/devices/0000:01:00.0/numa_node\n",
            "Your kernel may have been built without NUMA support.\n",
            "I0000 00:00:1729312004.392156  206607 cuda_executor.cc:1001] could not open file to read NUMA node: /sys/bus/pci/devices/0000:01:00.0/numa_node\n",
            "Your kernel may have been built without NUMA support.\n",
            "I0000 00:00:1729312004.392234  206607 cuda_executor.cc:1001] could not open file to read NUMA node: /sys/bus/pci/devices/0000:01:00.0/numa_node\n",
            "Your kernel may have been built without NUMA support.\n",
            "I0000 00:00:1729312004.395497  206607 cuda_executor.cc:1001] could not open file to read NUMA node: /sys/bus/pci/devices/0000:01:00.0/numa_node\n",
            "Your kernel may have been built without NUMA support.\n",
            "I0000 00:00:1729312004.395568  206607 cuda_executor.cc:1001] could not open file to read NUMA node: /sys/bus/pci/devices/0000:01:00.0/numa_node\n",
            "Your kernel may have been built without NUMA support.\n",
            "I0000 00:00:1729312004.395597  206607 cuda_executor.cc:1001] could not open file to read NUMA node: /sys/bus/pci/devices/0000:01:00.0/numa_node\n",
            "Your kernel may have been built without NUMA support.\n",
            "I0000 00:00:1729312004.718644  206607 cuda_executor.cc:1001] could not open file to read NUMA node: /sys/bus/pci/devices/0000:01:00.0/numa_node\n",
            "Your kernel may have been built without NUMA support.\n",
            "I0000 00:00:1729312004.718813  206607 cuda_executor.cc:1001] could not open file to read NUMA node: /sys/bus/pci/devices/0000:01:00.0/numa_node\n",
            "Your kernel may have been built without NUMA support.\n",
            "2024-10-19 00:26:44.718865: I tensorflow/core/common_runtime/gpu/gpu_device.cc:2112] Could not identify NUMA node of platform GPU id 0, defaulting to 0.  Your kernel may not have been built with NUMA support.\n",
            "I0000 00:00:1729312004.718946  206607 cuda_executor.cc:1001] could not open file to read NUMA node: /sys/bus/pci/devices/0000:01:00.0/numa_node\n",
            "Your kernel may have been built without NUMA support.\n",
            "2024-10-19 00:26:44.718982: I tensorflow/core/common_runtime/gpu/gpu_device.cc:2021] Created device /job:localhost/replica:0/task:0/device:GPU:0 with 3586 MB memory:  -> device: 0, name: NVIDIA GeForce RTX 3060 Laptop GPU, pci bus id: 0000:01:00.0, compute capability: 8.6\n"
          ]
        }
      ],
      "source": [
        "from __future__ import print_function\n",
        "\n",
        "import tensorflow as tf\n",
        "try:\n",
        "  tf.compat.v1.enable_eager_execution()\n",
        "except ValueError:\n",
        "  pass  # enable_eager_execution errors after its first call\n",
        "\n",
        "tensor = tf.constant('Hello, world!')\n",
        "tensor_value = tensor.numpy()\n",
        "print(tensor_value)"
      ]
    },
    {
      "cell_type": "markdown",
      "metadata": {
        "colab_type": "text",
        "id": "Bl1nAshab6m5"
      },
      "source": [
        "## To Run This Program\n",
        "\n",
        "  1. Click anywhere in the code block (for example, on the word `import`).\n",
        "\n",
        "  2. Click the right-facing-triangle icon in the upper-left corner of the code block, or hit ⌘/Ctrl-Enter.\n",
        "\n",
        "     The program will take a few seconds to run. If all goes well, the program will write the phrase `Hello, world!` just below the code block\n",
        "\n",
        "This entire program consists of a single code block. However, most exercises consist of multiple code blocks, in which case you should **run the code blocks individually in sequence, from top to bottom.** \n",
        "\n",
        "Running the code blocks out of sequence typically causes errors."
      ]
    },
    {
      "cell_type": "markdown",
      "metadata": {
        "colab_type": "text",
        "id": "UpzZ0Gv-uKf_"
      },
      "source": [
        "## Useful Keyboard Shortcuts\n",
        "\n",
        "* **⌘/Ctrl+m** then **b**: creates an empty code cell below the cell that's currently selected\n",
        "* **⌘/Ctrl+m** then **i**: interrupts a running cell\n",
        "* **⌘/Ctrl+m** then **h**: shows a list of all keyboard shortcuts\n",
        "* For documentation on any TensorFlow API method, place the cursor right after its opening parenthesis and hit **Tab**:\n",
        "\n",
        "  ![pop-up documentation for TensorFlow tf.constant method](https://download.mlcc.google.com/mledu-images/tf_pop_up_doc_example.png)"
      ]
    },
    {
      "cell_type": "code",
      "execution_count": 0,
      "metadata": {
        "colab": {},
        "colab_type": "code",
        "id": "5Ojo7xzOy8pN"
      },
      "outputs": [],
      "source": []
    }
  ],
  "metadata": {
    "colab": {
      "collapsed_sections": [
        "JndnmDMp66FL"
      ],
      "name": "hello_world.ipynb",
      "provenance": [],
      "version": "0.3.2"
    },
    "kernelspec": {
      "display_name": ".venv",
      "language": "python",
      "name": "python3"
    },
    "language_info": {
      "codemirror_mode": {
        "name": "ipython",
        "version": 3
      },
      "file_extension": ".py",
      "mimetype": "text/x-python",
      "name": "python",
      "nbconvert_exporter": "python",
      "pygments_lexer": "ipython3",
      "version": "3.10.12"
    }
  },
  "nbformat": 4,
  "nbformat_minor": 0
}
